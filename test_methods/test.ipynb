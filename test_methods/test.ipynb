{
 "cells": [
  {
   "cell_type": "code",
   "execution_count": 20,
   "metadata": {},
   "outputs": [
    {
     "name": "stderr",
     "output_type": "stream",
     "text": [
      "/home/bkcs/miniconda3/lib/python3.7/site-packages/ipykernel_launcher.py:65: UserWarning: To copy construct from a tensor, it is recommended to use sourceTensor.clone().detach() or sourceTensor.clone().detach().requires_grad_(True), rather than torch.tensor(sourceTensor).\n",
      "/home/bkcs/miniconda3/lib/python3.7/site-packages/ipykernel_launcher.py:66: UserWarning: To copy construct from a tensor, it is recommended to use sourceTensor.clone().detach() or sourceTensor.clone().detach().requires_grad_(True), rather than torch.tensor(sourceTensor).\n",
      "/home/bkcs/miniconda3/lib/python3.7/site-packages/ipykernel_launcher.py:67: UserWarning: To copy construct from a tensor, it is recommended to use sourceTensor.clone().detach() or sourceTensor.clone().detach().requires_grad_(True), rather than torch.tensor(sourceTensor).\n"
     ]
    },
    {
     "name": "stdout",
     "output_type": "stream",
     "text": [
      "torch.Size([3, 3])\n",
      "torch.Size([3])\n",
      "Epoch 1/10, Loss: 1.0876959562301636\n",
      "torch.Size([3, 3])\n",
      "torch.Size([3])\n",
      "Epoch 2/10, Loss: 1.0088310241699219\n",
      "torch.Size([3, 3])\n",
      "torch.Size([3])\n",
      "Epoch 3/10, Loss: 0.9548110961914062\n",
      "torch.Size([3, 3])\n",
      "torch.Size([3])\n",
      "Epoch 4/10, Loss: 0.9169958829879761\n",
      "torch.Size([3, 3])\n",
      "torch.Size([3])\n",
      "Epoch 5/10, Loss: 0.7592147588729858\n",
      "torch.Size([3, 3])\n",
      "torch.Size([3])\n",
      "Epoch 6/10, Loss: 0.8525515198707581\n",
      "torch.Size([3, 3])\n",
      "torch.Size([3])\n",
      "Epoch 7/10, Loss: 0.7209180593490601\n",
      "torch.Size([3, 3])\n",
      "torch.Size([3])\n",
      "Epoch 8/10, Loss: 0.6816401481628418\n",
      "torch.Size([3, 3])\n",
      "torch.Size([3])\n",
      "Epoch 9/10, Loss: 0.624692976474762\n",
      "torch.Size([3, 3])\n",
      "torch.Size([3])\n",
      "Epoch 10/10, Loss: 0.6323317289352417\n"
     ]
    }
   ],
   "source": [
    "import torch\n",
    "import torch.nn as nn\n",
    "import torch.optim as optim\n",
    "from torch.utils.data import DataLoader, TensorDataset\n",
    "\n",
    "class ConvNet(nn.Module):\n",
    "    def __init__(self, num_classes=2, num_features=256):\n",
    "        super(ConvNet, self).__init__()\n",
    "        self.layer1 = nn.Sequential(\n",
    "            nn.Conv1d(20, 32, kernel_size=5, padding=2),\n",
    "            nn.ReLU(),\n",
    "            nn.Conv1d(32, 32, kernel_size=5, padding=2),\n",
    "            nn.ReLU(),\n",
    "            nn.MaxPool1d(kernel_size=2, stride=2),\n",
    "            nn.Dropout(0.25)\n",
    "        )\n",
    "        self.layer2 = nn.Sequential(\n",
    "            nn.Conv1d(32, 64, kernel_size=3, padding=1),\n",
    "            nn.ReLU(),\n",
    "            nn.Conv1d(64, 64, kernel_size=3, padding=1),\n",
    "            nn.ReLU(),\n",
    "            nn.MaxPool1d(kernel_size=2, stride=2),\n",
    "            nn.Dropout(0.25)\n",
    "        )\n",
    "        self.flatten = nn.Flatten()\n",
    "        self.fc1 = nn.Linear(64 * (num_features // 4), 256)\n",
    "        self.dropout = nn.Dropout(0.5)\n",
    "        self.fc2 = nn.Linear(256, num_classes)\n",
    "\n",
    "    def forward(self, x):\n",
    "        out = self.layer1(x)\n",
    "        out = self.layer2(out)\n",
    "        out = self.flatten(out)\n",
    "        out = self.fc1(out)\n",
    "        out = self.dropout(out)\n",
    "        out = self.fc2(out)\n",
    "        return out\n",
    "\n",
    "# Function to train the model\n",
    "def train_model(train_loader, model, criterion, optimizer, num_epochs=10):\n",
    "    model.train()\n",
    "    \n",
    "    for epoch in range(num_epochs):\n",
    "        running_loss = 0.0\n",
    "        for data, labels, weights in train_loader:\n",
    "            optimizer.zero_grad()\n",
    "            outputs = model(data)\n",
    "            print(outputs.shape)\n",
    "            print(labels.shape)\n",
    "            loss = criterion(outputs, labels)\n",
    "            loss.backward()\n",
    "            optimizer.step()\n",
    "            running_loss += loss.item()\n",
    "\n",
    "        print(f'Epoch {epoch + 1}/{num_epochs}, Loss: {running_loss / len(train_loader)}')\n",
    "\n",
    "BATCH_SIZE = 3\n",
    "# Dummy data for illustration\n",
    "# Replace this with your actual data\n",
    "trans_data = torch.randn((BATCH_SIZE, 20, 256))\n",
    "trans_label = torch.randint(0, 3, (BATCH_SIZE,))\n",
    "P = torch.randn((BATCH_SIZE, 1))\n",
    "\n",
    "# Convert data to PyTorch tensors\n",
    "trans_data = torch.tensor(trans_data, dtype=torch.float32)\n",
    "trans_label = torch.tensor(trans_label, dtype=torch.long)\n",
    "P = torch.tensor(P[:, 0], dtype=torch.float32)\n",
    "\n",
    "# Create DataLoader\n",
    "train_dataset = TensorDataset(trans_data, trans_label, P)\n",
    "train_loader = DataLoader(train_dataset, batch_size=BATCH_SIZE, shuffle=True)\n",
    "\n",
    "# Instantiate the model, loss function, and optimizer\n",
    "model = ConvNet(num_classes=3, num_features=256)\n",
    "criterion = nn.CrossEntropyLoss(weight=P)\n",
    "optimizer = optim.Adam(model.parameters(), lr=3e-4)\n",
    "\n",
    "# Train the model\n",
    "train_model(train_loader, model, criterion, optimizer)\n"
   ]
  },
  {
   "cell_type": "code",
   "execution_count": 1,
   "metadata": {},
   "outputs": [],
   "source": [
    "import torch\n",
    "\n",
    "# Assuming pred_y is your predicted tensor and one_hot_batch is your target tensor\n",
    "y_pred = torch.tensor([[0.0037, -0.0023, 0.0640], [-0.0065, -0.0121, 0.0342]], device='cuda:0', requires_grad=True)\n",
    "one_hot_batch = torch.tensor([[0, 0, 1], [1, 0, 0]], dtype=torch.long)\n",
    "\n",
    "# Convert predicted values to Long type\n",
    "pred_y_long = torch.argmax(y_pred, dim=1)\n",
    "\n",
    "# Assuming you are using CrossEntropyLoss, you can then use the following\n",
    "criterion = torch.nn.CrossEntropyLoss()\n",
    "loss = criterion(y_pred, pred_y_long)\n",
    "\n",
    "# Rest of your training code...\n"
   ]
  },
  {
   "cell_type": "code",
   "execution_count": 16,
   "metadata": {},
   "outputs": [
    {
     "data": {
      "text/plain": [
       "tensor([1, 1, 0])"
      ]
     },
     "execution_count": 16,
     "metadata": {},
     "output_type": "execute_result"
    }
   ],
   "source": [
    "trans_label"
   ]
  },
  {
   "cell_type": "code",
   "execution_count": null,
   "metadata": {},
   "outputs": [],
   "source": []
  }
 ],
 "metadata": {
  "kernelspec": {
   "display_name": "base",
   "language": "python",
   "name": "python3"
  },
  "language_info": {
   "codemirror_mode": {
    "name": "ipython",
    "version": 3
   },
   "file_extension": ".py",
   "mimetype": "text/x-python",
   "name": "python",
   "nbconvert_exporter": "python",
   "pygments_lexer": "ipython3",
   "version": "3.7.12"
  }
 },
 "nbformat": 4,
 "nbformat_minor": 2
}
