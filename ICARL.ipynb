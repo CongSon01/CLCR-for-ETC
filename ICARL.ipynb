{
  "cells": [
    {
      "cell_type": "markdown",
      "metadata": {
        "colab_type": "text",
        "id": "view-in-github"
      },
      "source": [
        "<a href=\"https://colab.research.google.com/github/armando-larocca/Project-IL-/blob/master/ICARL.ipynb\" target=\"_parent\"><img src=\"https://colab.research.google.com/assets/colab-badge.svg\" alt=\"Open In Colab\"/></a>"
      ]
    },
    {
      "cell_type": "markdown",
      "metadata": {
        "colab_type": "text",
        "id": "GI5U_VjS82Oq"
      },
      "source": [
        "**Import utilities**"
      ]
    },
    {
      "cell_type": "code",
      "execution_count": 1,
      "metadata": {
        "colab": {},
        "colab_type": "code",
        "id": "38UuA0Ubj-Ku"
      },
      "outputs": [],
      "source": [
        "import torch\n",
        "import random\n",
        "import os\n",
        "import torch.nn as nn\n",
        "import torch.nn.functional as F\n",
        "from torch.autograd import Variable\n",
        "import numpy as np\n",
        "from PIL import Image\n",
        "import torch.optim as optim \n",
        "import torchvision.datasets as dsets\n",
        "import torchvision.models as models\n",
        "import torchvision.transforms as transforms\n",
        "from torch.utils.data import Subset, DataLoader\n",
        "import sys\n",
        "import matplotlib.pyplot as plt\n",
        "import matplotlib.gridspec as gridspec\n",
        "from torch.backends import * \n",
        "\n",
        "DEVICE = torch.device('cuda:0')\n",
        "\n",
        "# if not os.path.isdir('./Project-dir'):\n",
        "#   !git clone https://github.com/armando-larocca/Project-IL-\n",
        "\n",
        "# if not os.path.isdir('content/cifar100.py'):\n",
        "#   !mv '/content/Project-IL-/cifar100.py' '/content'  \n",
        "#   !mv '/content/Project-IL-/utils.py' '/content'  \n",
        "\n",
        "# if not os.path.isdir('content/cifarResnet.py'):\n",
        "#   !mv '/content/Project-IL-/cifarResnet.py' '/content'\n",
        "\n",
        "# if not os.path.isdir('content/icarl_utils.py'):\n",
        "#   !mv '/content/Project-IL-/icarl_utils.py' '/content'  \n",
        "\n",
        "from cifarResnet import resnet32\n",
        "from cifar100 import *\n",
        "from icarl_utils import * \n",
        "\n",
        "# Hyper Parameters\n",
        "random.seed(653)\n",
        "num_epochs = 70\n",
        "batch_size = 128\n",
        "total_classes = 100\n",
        "num_classes = 10\n",
        "indici_classi = list(range(0,100))\n",
        "random.shuffle(indici_classi)"
      ]
    },
    {
      "cell_type": "markdown",
      "metadata": {
        "colab_type": "text",
        "id": "1CdFb8elLEJG"
      },
      "source": [
        "**Weights initialization**"
      ]
    },
    {
      "cell_type": "code",
      "execution_count": 2,
      "metadata": {
        "colab": {},
        "colab_type": "code",
        "id": "omjdWY74ddV9"
      },
      "outputs": [],
      "source": [
        "def init_weights(m):\n",
        "  if type(m) == nn.Conv2d:\n",
        "    torch.nn.init.kaiming_uniform_(m.weight, nonlinearity='relu')\n",
        "\n",
        "  if type(m) == nn.Linear:\n",
        "    torch.nn.init.kaiming_uniform_(m.weight, nonlinearity='relu')  "
      ]
    },
    {
      "cell_type": "markdown",
      "metadata": {
        "colab_type": "text",
        "id": "bcsTwgvOLIrm"
      },
      "source": [
        "**ICARL**"
      ]
    },
    {
      "cell_type": "code",
      "execution_count": 3,
      "metadata": {
        "colab": {},
        "colab_type": "code",
        "id": "9jyhGkpp8xjX"
      },
      "outputs": [],
      "source": [
        "\n",
        "class iCaRLNet(nn.Module):\n",
        "    def __init__(self, feature_size, n_classes):\n",
        "        \n",
        "        #### Network architecture #### \n",
        "        super(iCaRLNet, self).__init__()\n",
        "        self.feature_extractor = resnet32()\n",
        "        self.fc = nn.Linear(feature_size, n_classes, bias=True)\n",
        "\n",
        "        self.n_classes = n_classes\n",
        "        self.n_known = 0\n",
        "\n",
        "        self.cls_loss = nn.BCEWithLogitsLoss()\n",
        "\n",
        "        self.exemplar_sets = []\n",
        "        self.indexes = []\n",
        "\n",
        "        # Means of exemplars\n",
        "        self.compute_means = True\n",
        "        self.exemplar_means = []\n",
        "\n",
        "        self.apply(init_weights)\n",
        "\n",
        "\n",
        "\n",
        "    def forward(self, x):\n",
        "        x = self.feature_extractor(x)\n",
        "        x = self.fc(x)\n",
        "        return x\n",
        "\n",
        "\n",
        "\n",
        "    def increment_classes(self, n):\n",
        "        ### INCREMENT THE NUMBER OF OUTPUTS  ###\n",
        "        ### AND COPY THE WEIGHTS            ####\n",
        "        torch.no_grad()\n",
        "        self.train(False)\n",
        "        in_features = self.fc.in_features\n",
        "        out_features = self.fc.out_features\n",
        "        weight = self.fc.weight.data\n",
        "        bias = self.fc.bias.data\n",
        "\n",
        "        self.fc = nn.Linear(in_features, out_features+n, bias=True)\n",
        "        self.fc.weight.data[:out_features] = weight\n",
        "        self.fc.bias.data[:out_features] = bias\n",
        "        self.n_classes += n\n",
        "\n",
        "\n",
        "\n",
        "\n",
        "    def classify(self, x):\n",
        "        \"\"\"Classify images by neares-means-of-exemplars\n",
        "        Args:\n",
        "            x: input image batch\n",
        "        Returns:\n",
        "            preds: Tensor of size (batch_size,)\n",
        "        \"\"\"\n",
        "        torch.no_grad()\n",
        "        self.train(False)\n",
        "        batch_size = x.size(0)\n",
        "\n",
        "        if self.compute_means:\n",
        "            print (\"Computing mean of exemplars...\")\n",
        "            exemplar_means = []\n",
        "            for P_y in self.exemplar_sets:\n",
        "                features = []\n",
        "                # Extract feature for each exemplar in P_y\n",
        "                for ex in P_y:\n",
        "                    ex = Variable(ex, volatile=True)\n",
        "                    feature = self.feature_extractor(ex.unsqueeze(0))\n",
        "                    feature = feature.squeeze()\n",
        "                    feature.data = feature.data / feature.data.norm() # Normalize\n",
        "                    features.append(feature)\n",
        "                features = torch.stack(features)\n",
        "                mu_y = features.mean(0).squeeze()\n",
        "                mu_y.data = mu_y.data / mu_y.data.norm() # Normalize\n",
        "                exemplar_means.append(mu_y)\n",
        "            self.exemplar_means = exemplar_means\n",
        "            self.compute_means = False\n",
        "            print (\"Done\")\n",
        "\n",
        "        exemplar_means = self.exemplar_means\n",
        "        means = torch.stack(exemplar_means) # (n_classes, feature_size)\n",
        "        means = torch.stack([means] * batch_size) # (batch_size, n_classes, feature_size)\n",
        "        means = means.transpose(1, 2) # (batch_size, feature_size, n_classes)\n",
        "\n",
        "        feature = self.feature_extractor(x) # (batch_size, feature_size)\n",
        "        for i in range(0,feature.size(0)): # Normalize\n",
        "            feature.data[i] = feature.data[i] / feature.data[i].norm()\n",
        "        feature = feature.unsqueeze(2) # (batch_size, feature_size, 1)\n",
        "        feature = feature.expand_as(means) # (batch_size, feature_size, n_classes)\n",
        "\n",
        "        dists = (feature - means).pow(2).sum(1).squeeze() #(batch_size, n_classes)\n",
        "        _, preds = dists.min(1)\n",
        "\n",
        "        return preds\n",
        "        \n",
        "\n",
        "\n",
        "    def construct_exemplar_set(self, images, indicis):\n",
        "  \n",
        "        \"\"\"Construct an exemplar set for image set\n",
        "        Args:\n",
        "            images: np.array containing images of a class\n",
        "        \"\"\"\n",
        "        torch.no_grad()\n",
        "        self.train(False)\n",
        "        # Compute and cache features for each example\n",
        "        features = []\n",
        "        for img in images:\n",
        "            x = Variable(img, volatile=True)\n",
        "            feature = self.feature_extractor(x.unsqueeze(0)).data.cpu().numpy()\n",
        "            feature = feature / np.linalg.norm(feature) # Normalize\n",
        "            features.append(feature[0])\n",
        "\n",
        "        features = np.array(features)\n",
        "        class_mean = np.mean(features, axis=0)\n",
        "        class_mean = class_mean / np.linalg.norm(class_mean) # Normalize\n",
        "\n",
        "        exemplar_set = []\n",
        "        exemplar_features = [] # list of Variables of shape (feature_size,)\n",
        "        indici = []\n",
        "        for k in range(0, len(images)):\n",
        "            S = np.sum(exemplar_features, axis=0)\n",
        "            phi = features\n",
        "            mu = class_mean\n",
        "            mu_p = 1.0/(k+1) * (phi + S)\n",
        "            mu_p = mu_p / np.linalg.norm(mu_p)\n",
        "            i = np.argmin(np.sqrt(np.sum((mu - mu_p) ** 2, axis=1)))\n",
        "            exemplar_set.append(images[i])\n",
        "            indici.append(indicis[i])\n",
        "            exemplar_features.append(features[i])\n",
        "          \n",
        "            #print (\"Selected example\", i)\n",
        "            #print (\"|exemplar_mean - class_mean|:\")\n",
        "            #print (np.linalg.norm((np.mean(exemplar_features, axis=0) - class_mean)))\n",
        "            features = np.delete(features, i, axis=0)\n",
        "            \n",
        "        #exemplar_set = torch.stack(exemplar_set)\n",
        "        self.exemplar_sets.append(exemplar_set)\n",
        "        #random.shuffle(indici)\n",
        "        self.indexes.append(indici)        \n",
        "\n",
        "\n",
        "    def reduce_exemplar_sets(self, m):\n",
        "        self.train(False)\n",
        "        for y, P_y in enumerate(self.exemplar_sets):\n",
        "            self.exemplar_sets[y] = P_y[:int(m)]\n",
        "            uff = self.indexes[y] \n",
        "            uff = uff[:int(m)]\n",
        "            self.indexes[y] = uff\n",
        "\n",
        "\n",
        "\n",
        "    def combine_dataset_with_exemplars(self, dataset, superdataset):\n",
        "        self.train(False)\n",
        "        indici = []\n",
        "        a = list(dataset)\n",
        "        for item in a:\n",
        "          indici.append(item[0])\n",
        "        for j in self.indexes:\n",
        "           indici = indici + j\n",
        "        print(len(indici))\n",
        "        dataset = Subset(superdataset, indici)\n",
        "\n",
        "        return dataset\n",
        "            \n",
        "        \n",
        "\n",
        "\n",
        "    def update_representation(self, dataset, superdataset):\n",
        "\n",
        "        p = icarl.parameters()\n",
        "        optimizer = optim.SGD(p, lr=2, weight_decay = 0.00001, momentum=0.9)\n",
        "        \n",
        "        dataset = self.combine_dataset_with_exemplars(dataset, superdataset)         \n",
        "        loader = torch.utils.data.DataLoader(dataset, batch_size=batch_size,shuffle=True, num_workers=4)\n",
        "\n",
        "        self.compute_means = True\n",
        "        self.train(False)\n",
        "        \n",
        "        # Store network outputs with pre-update parameters\n",
        "        self.train(False)\n",
        "        q = torch.zeros(50000, self.n_classes)\n",
        "        for  indices, images, labels in loader:\n",
        "            images = Variable(images)\n",
        "            indices = indices\n",
        "            g = F.sigmoid(self.forward(images))\n",
        "            q[indices] = g.data         \n",
        "        q = Variable(q)\n",
        "\n",
        "        \n",
        "        # Increment number of weights in final fc layer\n",
        "        classes = list(set(lb(dataset)))\n",
        "        new_classes = [cls for cls in classes if cls > self.n_classes - 1]\n",
        "\n",
        "        if(len(new_classes) != 0):\n",
        "          print(\"#####################\")\n",
        "          self.increment_classes(len(new_classes))\n",
        "          p = self.parameters() \n",
        "          optimizer = optim.SGD(p, lr=2, weight_decay = 0.00001, momentum=0.9)\n",
        "        print (\"%d new classes\" % (len(new_classes)))\n",
        "        \n",
        "        tot_matr =[]\n",
        "        tot_lab=[]\n",
        "        \n",
        "        scheduler = optim.lr_scheduler.MultiStepLR(optimizer, [49,63], gamma=0.2)\n",
        "    \n",
        "        for epoch in range(0,num_epochs):\n",
        "            running_corrects = 0\n",
        "            total = 0\n",
        "            matr =[]\n",
        "            lab =[]\n",
        "             \n",
        "            for i, (indices, images, labels) in enumerate(loader):\n",
        "        \n",
        "                images = Variable(images)\n",
        "                labels = Variable(labels)\n",
        "                indices = indices\n",
        "\n",
        "                self.train(True)\n",
        "                optimizer.zero_grad()\n",
        "                g = self.forward(images)\n",
        "                \n",
        "                _, preds = torch.max(g, 1)\n",
        "                running_corrects += torch.sum(preds == labels.data).data.item()\n",
        "                total += labels.size(0)\n",
        "\n",
        "                matr.extend(preds)\n",
        "                lab.extend(labels)\n",
        "\n",
        "                q_i = q[indices]\n",
        "                Id = torch.eye(self.n_known+10)\n",
        "                one_hot = Id[labels]\n",
        "                one_hot[:,:self.n_known] = q_i[:,:self.n_known]\n",
        "                loss = self.cls_loss(g, one_hot) \n",
        "\n",
        "                loss.backward()\n",
        "                optimizer.step()\n",
        "                torch.cuda.empty_cache()\n",
        "\n",
        "            self.train(False)\n",
        "            tot_lab.append(lab)\n",
        "            tot_matr.append(matr)\n",
        "\n",
        "            scheduler.step()\n",
        "            accuracy = running_corrects / float(total)\n",
        "          \n",
        "            print(\"LR:\",scheduler.get_last_lr())\n",
        "            print ('Epoch [%d/%d], Loss: %.4f, Acc: %.2f ' %(epoch+1, num_epochs, loss.data, accuracy,)) \n",
        "\n",
        "        return tot_lab, tot_matr      \n",
        "                "
      ]
    },
    {
      "cell_type": "markdown",
      "metadata": {
        "colab_type": "text",
        "id": "xCYSysgDOhXM"
      },
      "source": [
        "**Dataset preparation**"
      ]
    },
    {
      "cell_type": "code",
      "execution_count": 4,
      "metadata": {
        "colab": {},
        "colab_type": "code",
        "id": "Ui_OaQofk04A"
      },
      "outputs": [
        {
          "name": "stdout",
          "output_type": "stream",
          "text": [
            "Using downloaded and verified file: .\\Data/cifar-100-python.tar.gz\n",
            "Extracting .\\Data/cifar-100-python.tar.gz to .\\Data\n",
            "Using downloaded and verified file: .\\Data/cifar-100-python.tar.gz\n",
            "Extracting .\\Data/cifar-100-python.tar.gz to .\\Data\n"
          ]
        }
      ],
      "source": [
        "transform = transforms.Compose([\n",
        "        transforms.RandomCrop(32, padding=4),\n",
        "        transforms.RandomHorizontalFlip(0.5),\n",
        "        transforms .ToTensor(),\n",
        "         transforms.Normalize((0.5071, 0.4867, 0.4408), (0.2675, 0.2565, 0.2761)),\n",
        "]) \n",
        " \n",
        "  \n",
        "   \n",
        "\n",
        "transform_test = transforms.Compose([\n",
        "        transforms.ToTensor(),\n",
        "        transforms.Normalize((0.5071, 0.4867, 0.4408), (0.2675, 0.2565, 0.2761)),\n",
        "])\n",
        "\n",
        "train_dataset = Cifar100(\".\\Data\", train=True, transform=transform)\n",
        "test_dataset = Cifar100(\".\\Data\", train=False, transform=transform_test)\n",
        "\n",
        "#random.seed(800)\n",
        "train_dataset._shuffle_(indici_classi)\n",
        "test_dataset._shuffle_(indici_classi)\n",
        "\n",
        "incr_train = train_dataset.__incremental_train_indexes__(1)\n",
        "incr_val = test_dataset.__incremental_val_indexes__(0)\n",
        "\n",
        "decine_train = []\n",
        "decine_val = []\n",
        "\n",
        "for i in range(0,10):\n",
        "  val_dataset = Subset(test_dataset, incr_val[i])\n",
        "  training_dataset = Subset(train_dataset, incr_train[i])\n",
        "  decine_train.append(training_dataset)\n",
        "  decine_val.append(val_dataset) \n",
        "\n"
      ]
    },
    {
      "cell_type": "markdown",
      "metadata": {
        "colab_type": "text",
        "id": "6R5he6AELS7j"
      },
      "source": [
        "**Main**"
      ]
    },
    {
      "cell_type": "code",
      "execution_count": 5,
      "metadata": {
        "colab": {},
        "colab_type": "code",
        "id": "uzq10DaWMfDt"
      },
      "outputs": [
        {
          "name": "stdout",
          "output_type": "stream",
          "text": [
            "5000\n"
          ]
        },
        {
          "name": "stderr",
          "output_type": "stream",
          "text": [
            "/home/bkcs/miniconda3/lib/python3.7/site-packages/torch/nn/functional.py:1351: UserWarning: nn.functional.sigmoid is deprecated. Use torch.sigmoid instead.\n",
            "  warnings.warn(\"nn.functional.sigmoid is deprecated. Use torch.sigmoid instead.\")\n"
          ]
        },
        {
          "name": "stdout",
          "output_type": "stream",
          "text": [
            "0 new classes\n",
            "LR: [2]\n",
            "Epoch [1/70], Loss: 0.2970, Acc: 0.15 \n",
            "LR: [2]\n",
            "Epoch [2/70], Loss: 0.3529, Acc: 0.13 \n",
            "LR: [2]\n",
            "Epoch [3/70], Loss: 0.3919, Acc: 0.15 \n",
            "LR: [2]\n",
            "Epoch [4/70], Loss: 0.3287, Acc: 0.17 \n",
            "LR: [2]\n",
            "Epoch [5/70], Loss: 0.2802, Acc: 0.17 \n"
          ]
        }
      ],
      "source": [
        "# Initialize CNN\n",
        "K = 2000 # total number of exemplars\n",
        "icarl = iCaRLNet(64 ,10)\n",
        "\n",
        "matrice =[]\n",
        "lab =[]\n",
        "m_train=[]\n",
        "l_train = []\n",
        "best_acc=[]\n",
        "\n",
        "\n",
        "for s in range(0, total_classes, num_classes):\n",
        "\n",
        "    train_loader = torch.utils.data.DataLoader(decine_train[int((s/10))], batch_size=batch_size,shuffle=True, num_workers=4)\n",
        "    test_loader = torch.utils.data.DataLoader(decine_val[int((s/10))], batch_size=batch_size,shuffle=True, num_workers=4)\n",
        "    \n",
        "    # Update representation via BackProp\n",
        "    t1,t2 = icarl.update_representation(decine_train[int((s/10))], train_dataset)\n",
        "\n",
        "    m_train.append(t2)\n",
        "    l_train.append(t1)\n",
        "    \n",
        "    # Construct exemplar sets for new classes\n",
        "    for y in range(icarl.n_known, icarl.n_known+10):\n",
        "        print(\"Constructing exemplar set for class-%d...\" %(y))\n",
        "        indici, images = class_images(decine_train[int((s/10))],y)\n",
        "        icarl.construct_exemplar_set(images,indici)\n",
        "        print(\"Done\")\n",
        "    \n",
        "    icarl.n_known = icarl.n_known+10\n",
        "    print(\"iCaRL classes: %d\" % icarl.n_known)\n",
        "    \n",
        "    total = 0.0\n",
        "    correct = 0.0\n",
        "    with torch.no_grad():\n",
        "     for indices, images, labels in train_loader:\n",
        "         images = Variable(images)\n",
        "         preds = icarl.classify(images)\n",
        "         total += labels.size(0)\n",
        "         correct += (preds.data.cpu() == labels).sum()\n",
        "\n",
        "    train_accuracy = float(correct/total)\n",
        "    print('Train Accuracy: %f %%' % (train_accuracy))\n",
        "  \n",
        "    med_matr = []\n",
        "    med_lab = []\n",
        "    total = 0.0\n",
        "    correct = 0.0\n",
        "    with torch.no_grad():\n",
        "     for indices, images, labels in test_loader:\n",
        "        images = Variable(images)\n",
        "        preds = icarl.classify(images)\n",
        "        total += labels.size(0)\n",
        "        correct += (preds.data.cpu() == labels).sum()\n",
        "        med_lab.extend(labels)\n",
        "        med_matr.extend(preds)\n",
        "    \n",
        "    test_accuracy = float(correct/total)\n",
        "    matrice.append(med_matr)\n",
        "    lab.append(med_lab)\n",
        "    best_acc.append(test_accuracy)\n",
        "    print('Test Accuracy: %f %%' % (test_accuracy))\n",
        "    \n",
        "    total = 0.0\n",
        "    correct = 0.0\n",
        "    with torch.no_grad():\n",
        "     for indices, images, labels in test_loader:\n",
        "        images = Variable(images)\n",
        "        labels = Variable(labels)\n",
        "\n",
        "        g = icarl.forward(images)\n",
        "        _, preds = torch.max(g, 1)\n",
        "        correct += torch.sum(preds == labels.data).data.item()\n",
        "        \n",
        "        total += labels.size(0)\n",
        "        accuracy = float(correct/float(total))\n",
        "\n",
        "    print(accuracy)\n",
        "    \n",
        "    # Reduce exemplar sets for known classes\n",
        "    m = K/icarl.n_classes\n",
        "    icarl.reduce_exemplar_sets(m)\n",
        "    "
      ]
    },
    {
      "cell_type": "markdown",
      "metadata": {},
      "source": []
    },
    {
      "cell_type": "markdown",
      "metadata": {
        "colab_type": "text",
        "id": "lZLxcnZsLYNg"
      },
      "source": [
        "**Confusion Matrix**"
      ]
    },
    {
      "cell_type": "code",
      "execution_count": null,
      "metadata": {
        "colab": {},
        "colab_type": "code",
        "id": "zJ7B5LYvbju5"
      },
      "outputs": [
        {
          "name": "stdout",
          "output_type": "stream",
          "text": [
            "10\n"
          ]
        },
        {
          "data": {
            "image/png": "[encoded data removed]",
            "text/plain": [
              "<Figure size 1500x1300 with 1 Axes>"
            ]
          },
          "metadata": {},
          "output_type": "display_data"
        }
      ],
      "source": [
        "from sklearn.metrics import confusion_matrix\n",
        "import numpy as np\n",
        "import matplotlib\n",
        "import matplotlib.pyplot as plt\n",
        "\n",
        "print(len(matrice))\n",
        "\n",
        "x = matrice[9]\n",
        "l = lab[9]\n",
        "\n",
        "#print()\n",
        "#print(matrice[0])\n",
        "\n",
        "l = [int(i) for i in l]\n",
        "x = [int(i) for i in x]\n",
        "\n",
        "cf = confusion_matrix(x,l)\n",
        "\n",
        "fig, ax = plt.subplots(figsize=(15,13))\n",
        "im = ax.imshow(cf,cmap='plasma')\n",
        "\n",
        "ax.set_yticks([10,20,30,40,50,60,70,80,90])\n",
        "ax.set_xticks([10,20,30,40,50,60,70,80,90])\n",
        "\n",
        "plt.setp(ax.get_xticklabels(), rotation=45, ha=\"right\",\n",
        "         rotation_mode=\"anchor\")\n",
        "\n",
        "ax.set_title(\"image classification\")\n",
        "fig.tight_layout()\n",
        "plt.show()"
      ]
    },
    {
      "cell_type": "markdown",
      "metadata": {
        "colab_type": "text",
        "id": "6AJmf1CuLdWD"
      },
      "source": [
        "**Accuracy trend plot**"
      ]
    },
    {
      "cell_type": "code",
      "execution_count": null,
      "metadata": {
        "colab": {},
        "colab_type": "code",
        "id": "bJEHzlQ2ogfu"
      },
      "outputs": [
        {
          "data": {
            "image/png": "[encoded data removed]",
            "text/plain": [
              "<Figure size 1500x1000 with 1 Axes>"
            ]
          },
          "metadata": {},
          "output_type": "display_data"
        },
        {
          "name": "stdout",
          "output_type": "stream",
          "text": [
            "[0.7149999737739563, 0.659500002861023, 0.6076666712760925, 0.5827500224113464, 0.527999997138977, 0.5036666393280029, 0.46228572726249695, 0.43562498688697815, 0.4131111204624176, 0.4049000144004822]\n"
          ]
        }
      ],
      "source": [
        "fig,ax = plt.subplots(figsize=(15,10))\n",
        "ax.plot([10,20,30,40,50,60,70,80,90,100],best_acc,'k-o')\n",
        "plt.xlim(10,100)\n",
        "plt.ylim(0,1)\n",
        "plt.xlabel('Classes')\n",
        "plt.ylabel('Accuracy')\n",
        "plt.show()\n",
        "\n",
        "print(best_acc)"
      ]
    },
    {
      "cell_type": "markdown",
      "metadata": {
        "colab_type": "text",
        "id": "N9RUmO_zLhZK"
      },
      "source": [
        "**Storing results**"
      ]
    },
    {
      "cell_type": "code",
      "execution_count": null,
      "metadata": {
        "colab": {},
        "colab_type": "code",
        "id": "F0SzqcjAp0ze"
      },
      "outputs": [],
      "source": [
        "results_file = open(\"Results.txt\",\"a\")\n",
        "\n",
        "results_file.write(\"accuracy:\")\n",
        "results_file.write(str(best_acc))\n",
        "\n",
        "np.savetxt(\"CF_ICARL.txt\",cf,delimiter = ',')\n",
        "\n",
        "results_file.close()"
      ]
    },
    {
      "cell_type": "code",
      "execution_count": null,
      "metadata": {},
      "outputs": [],
      "source": []
    }
  ],
  "metadata": {
    "accelerator": "GPU",
    "colab": {
      "collapsed_sections": [],
      "include_colab_link": true,
      "name": "TEMPLATE ICARL.ipynb",
      "provenance": []
    },
    "kernelspec": {
      "display_name": "Python 3",
      "name": "python3"
    },
    "language_info": {
      "codemirror_mode": {
        "name": "ipython",
        "version": 3
      },
      "file_extension": ".py",
      "mimetype": "text/x-python",
      "name": "python",
      "nbconvert_exporter": "python",
      "pygments_lexer": "ipython3",
      "version": "3.7.12"
    }
  },
  "nbformat": 4,
  "nbformat_minor": 0
}
